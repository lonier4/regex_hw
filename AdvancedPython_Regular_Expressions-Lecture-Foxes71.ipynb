{
 "cells": [
  {
   "cell_type": "markdown",
   "metadata": {},
   "source": [
    "# Regular Expressions"
   ]
  },
  {
   "cell_type": "markdown",
   "metadata": {},
   "source": [
    "# Tasks today:\n",
    "1) <b>Importing</b> <br>\n",
    "2) <b>Using Regular Expressions</b> <br>\n",
    " &nbsp;&nbsp;&nbsp;&nbsp; a) re.compile() <br>\n",
    " &nbsp;&nbsp;&nbsp;&nbsp; b) re.match() <br>\n",
    " &nbsp;&nbsp;&nbsp;&nbsp; c) re.findall() <br>\n",
    " &nbsp;&nbsp;&nbsp;&nbsp; d) re.search() <br>\n",
    "3) <b>Sets</b> <br>\n",
    " &nbsp;&nbsp;&nbsp;&nbsp; a) Integer Ranges <br>\n",
    " &nbsp;&nbsp;&nbsp;&nbsp; b) Character Ranges <br>\n",
    "4) <b>Counting Occurences</b> <br>\n",
    " &nbsp;&nbsp;&nbsp;&nbsp; a) {x} <br>\n",
    " &nbsp;&nbsp;&nbsp;&nbsp; b) {, x} <br>\n",
    " &nbsp;&nbsp;&nbsp;&nbsp; c) {?} <br>\n",
    " &nbsp;&nbsp;&nbsp;&nbsp; d) {*} <br>\n",
    " &nbsp;&nbsp;&nbsp;&nbsp; e) {+} <br>\n",
    "5) <b>In-Class Exercise #1</b> <br>\n",
    "6) <b>Escaping Characters</b> <br>\n",
    "7) <b>Grouping</b> <br>\n",
    "8) <b>In-Class Exercise #2</b> <br>\n",
    "9) <b>Opening a File</b> <br>\n",
    " &nbsp;&nbsp;&nbsp;&nbsp; a) open() <br>\n",
    " &nbsp;&nbsp;&nbsp;&nbsp; b) with open() <br>\n",
    " &nbsp;&nbsp;&nbsp;&nbsp; c) re.match() <br>\n",
    " &nbsp;&nbsp;&nbsp;&nbsp; d) re.search() <br>\n",
    " &nbsp;&nbsp;&nbsp;&nbsp; e) Store the String in a Variable <br>\n",
    "10) <b>Regex Project</b> <br>"
   ]
  },
  {
   "cell_type": "markdown",
   "metadata": {},
   "source": [
    "### Importing <br>\n",
    "<p>Regular Expressions are universal throughout most programming languages... They are generally imported through the module 're'.</p>"
   ]
  },
  {
   "cell_type": "code",
   "execution_count": 3,
   "metadata": {},
   "outputs": [],
   "source": [
    "# import re\n",
    "import re"
   ]
  },
  {
   "cell_type": "markdown",
   "metadata": {},
   "source": [
    "### Using Regular Expressions <br>\n",
    "<p>Regular expressions give us the ability to search for patterns within text, strings, files, etc. They serve several uses, such as; security measures, searching, filtering, pattern recognition, and more...</p>"
   ]
  },
  {
   "cell_type": "markdown",
   "metadata": {},
   "source": [
    "##### re.compile()"
   ]
  },
  {
   "cell_type": "code",
   "execution_count": 5,
   "metadata": {},
   "outputs": [],
   "source": [
    "# using compile, pre determines the string to be used in regular expression methods\n",
    "pattern = re.compile('Fox')\n"
   ]
  },
  {
   "cell_type": "markdown",
   "metadata": {},
   "source": [
    "##### re.match()"
   ]
  },
  {
   "cell_type": "code",
   "execution_count": 14,
   "metadata": {},
   "outputs": [
    {
     "name": "stdout",
     "output_type": "stream",
     "text": [
      "<re.Match object; span=(0, 3), match='Fox'>\n",
      "(0, 3)\n"
     ]
    },
    {
     "data": {
      "text/plain": [
       "'Fox'"
      ]
     },
     "execution_count": 14,
     "metadata": {},
     "output_type": "execute_result"
    }
   ],
   "source": [
    "# re.match() only checks the start of the string for the pattern\n",
    "\n",
    "my_string = 'Foxes71! Hello!'\n",
    "\n",
    "match = pattern.match(my_string)\n",
    "print(match)\n",
    "# Accessing the span of the match - a tuple of start and end index of our pattern\n",
    "print(match.span())\n",
    "my_string[0:3]"
   ]
  },
  {
   "cell_type": "markdown",
   "metadata": {},
   "source": [
    "##### re.findall()"
   ]
  },
  {
   "cell_type": "code",
   "execution_count": 16,
   "metadata": {},
   "outputs": [
    {
     "name": "stdout",
     "output_type": "stream",
     "text": [
      "['Fox', 'Fox', 'Fox']\n",
      "Help on function findall in module re:\n",
      "\n",
      "findall(pattern, string, flags=0)\n",
      "    Return a list of all non-overlapping matches in the string.\n",
      "    \n",
      "    If one or more capturing groups are present in the pattern, return\n",
      "    a list of groups; this will be a list of tuples if the pattern\n",
      "    has more than one group.\n",
      "    \n",
      "    Empty matches are included in the result.\n",
      "\n"
     ]
    }
   ],
   "source": [
    "# returns a list of all occurances of our pattern\n",
    "found = pattern.findall('Hello, Foxes71! The quick brown Fox jumped over the other Fox.')\n",
    "print(found)\n",
    "help(re.findall)"
   ]
  },
  {
   "cell_type": "markdown",
   "metadata": {},
   "source": [
    "##### re.search()"
   ]
  },
  {
   "cell_type": "code",
   "execution_count": 17,
   "metadata": {},
   "outputs": [
    {
     "name": "stdout",
     "output_type": "stream",
     "text": [
      "<re.Match object; span=(7, 10), match='Fox'>\n"
     ]
    }
   ],
   "source": [
    "# search will find the first occuring match to our pattern regardless if at start of string or not\n",
    "search = pattern.search('Hello, Foxes71!')\n",
    "print(search)\n"
   ]
  },
  {
   "cell_type": "markdown",
   "metadata": {},
   "source": [
    "### Sets <br>\n",
    "<p>The following cells will allow you to use regular expressions to search for certain values within a range such as numbers 1 through 4.</p>"
   ]
  },
  {
   "cell_type": "markdown",
   "metadata": {},
   "source": [
    "##### [a-z] or [A-Z] - any lowercase/uppercase letters from a to z<br/>[^2] - anything that's not 2"
   ]
  },
  {
   "cell_type": "markdown",
   "metadata": {},
   "source": [
    "##### Integer Ranges"
   ]
  },
  {
   "cell_type": "code",
   "execution_count": 21,
   "metadata": {},
   "outputs": [
    {
     "data": {
      "text/plain": [
       "['2-3', '302', '2-3']"
      ]
     },
     "execution_count": 21,
     "metadata": {},
     "output_type": "execute_result"
    }
   ],
   "source": [
    "numstring = '617-772-3910, 320-049-9302, 352-304-4021'\n",
    "\n",
    "pattern_int = re.compile('[0-3][^5][2-7]')\n",
    "matches = pattern_int.findall(numstring)\n",
    "matches"
   ]
  },
  {
   "cell_type": "markdown",
   "metadata": {},
   "source": [
    "##### Character Ranges"
   ]
  },
  {
   "cell_type": "code",
   "execution_count": 25,
   "metadata": {},
   "outputs": [
    {
     "data": {
      "text/plain": [
       "['Fox']"
      ]
     },
     "execution_count": 25,
     "metadata": {},
     "output_type": "execute_result"
    }
   ],
   "source": [
    "char_pattern = re.compile('[A-Z][^h][a-z]')\n",
    "\n",
    "found = char_pattern.findall(\"hello Foxes71! This is your last week of normal content :'(\")\n",
    "found"
   ]
  },
  {
   "cell_type": "markdown",
   "metadata": {},
   "source": [
    "### Counting Occurences"
   ]
  },
  {
   "cell_type": "markdown",
   "metadata": {},
   "source": [
    "##### {x} - something that occurs {num_of_times}"
   ]
  },
  {
   "cell_type": "code",
   "execution_count": 27,
   "metadata": {},
   "outputs": [
    {
     "data": {
      "text/plain": [
       "['Foxes71']"
      ]
     },
     "execution_count": 27,
     "metadata": {},
     "output_type": "execute_result"
    }
   ],
   "source": [
    "char_pattern = re.compile('[A-Z][a-z]{4}[0-9]{2}')\n",
    "\n",
    "found = char_pattern.findall(\"hello Foxes71! This is your last week of normal content :'(\")\n",
    "found"
   ]
  },
  {
   "cell_type": "markdown",
   "metadata": {},
   "source": [
    "##### {x, x} - something that occurs between x and x times"
   ]
  },
  {
   "cell_type": "code",
   "execution_count": 28,
   "metadata": {},
   "outputs": [
    {
     "data": {
      "text/plain": [
       "['Foxes71', 'Week9']"
      ]
     },
     "execution_count": 28,
     "metadata": {},
     "output_type": "execute_result"
    }
   ],
   "source": [
    "char_pattern = re.compile('[A-Z][a-z]{2,4}[0-9]{1,2}')\n",
    "\n",
    "found = char_pattern.findall(\"hello Foxes71! This is your last week of normal content Week9 :'(\")\n",
    "found"
   ]
  },
  {
   "cell_type": "markdown",
   "metadata": {},
   "source": [
    "##### ? - something that occurs 0 or 1 time"
   ]
  },
  {
   "cell_type": "code",
   "execution_count": 31,
   "metadata": {},
   "outputs": [
    {
     "data": {
      "text/plain": [
       "['Foxes71', 'This', 'Week']"
      ]
     },
     "execution_count": 31,
     "metadata": {},
     "output_type": "execute_result"
    }
   ],
   "source": [
    "char_pattern = re.compile('[A-Z][a-z]{2,4}[0-9]?[0-9]?')\n",
    "\n",
    "found = char_pattern.findall(\"hello Foxes71! This is your last week of normal content Week :'(\")\n",
    "found"
   ]
  },
  {
   "cell_type": "markdown",
   "metadata": {},
   "source": [
    "##### * - something that occurs at least 0 times"
   ]
  },
  {
   "cell_type": "code",
   "execution_count": 38,
   "metadata": {},
   "outputs": [
    {
     "data": {
      "text/plain": [
       "['Foxes71', 'This', 'Week9']"
      ]
     },
     "execution_count": 38,
     "metadata": {},
     "output_type": "execute_result"
    }
   ],
   "source": [
    "# * is a wildcard - represents pretty much any number of occurances\n",
    "\n",
    "char_pattern = re.compile('[A-Z][a-z]{2,4}[0-9]*')\n",
    "\n",
    "found = char_pattern.findall(\"hello Foxes71! This is your last week of normal content Week9 :'(\")\n",
    "found"
   ]
  },
  {
   "cell_type": "markdown",
   "metadata": {},
   "source": [
    "##### + - something that occurs at least once"
   ]
  },
  {
   "cell_type": "code",
   "execution_count": 39,
   "metadata": {},
   "outputs": [
    {
     "data": {
      "text/plain": [
       "['Foxes71', 'Week9']"
      ]
     },
     "execution_count": 39,
     "metadata": {},
     "output_type": "execute_result"
    }
   ],
   "source": [
    "char_pattern = re.compile('[A-Z][a-z]{2,4}[0-9]+')\n",
    "\n",
    "found = char_pattern.findall(\"hello Foxes71! This is your last week of normal content Week9 :'(\")\n",
    "found"
   ]
  },
  {
   "cell_type": "markdown",
   "metadata": {},
   "source": [
    "##### In-class exercise 1: \n",
    "\n",
    "Use a regular expression to find every number in the given string"
   ]
  },
  {
   "cell_type": "code",
   "execution_count": 40,
   "metadata": {},
   "outputs": [
    {
     "data": {
      "text/plain": [
       "['10909090', '1', '2']"
      ]
     },
     "execution_count": 40,
     "metadata": {},
     "output_type": "execute_result"
    }
   ],
   "source": [
    "my_string = \"This string has 10909090 numbers, but it is only 1 string. I hope you solve this 2day.\"\n",
    "\n",
    "# Output: ['10909090','1', '2']\n",
    "\n",
    "pattern = re.compile('[0-9]+')\n",
    "pattern.findall(my_string)"
   ]
  },
  {
   "cell_type": "markdown",
   "metadata": {},
   "source": [
    "### Escaping Characters\n",
    "<p> A forward slash will \"escape\" whichever character appears after it- meaning that character will use the opposite of its normal functionality. For normal letters, escaping usually adds some special functionality (n vs. \\n, w vs. \\w). For special characters, escaping usually removes any special functionality (* vs. \\* -> \\* just representing '*' in the string).</p>"
   ]
  },
  {
   "cell_type": "markdown",
   "metadata": {},
   "source": [
    "##### \\w - look for any Unicode character<br/>\\W - look for anything that isnt a Unicode character\n",
    "\n",
    "[History on Unicode](http://unicode.org/standard/WhatIsUnicode.html)\n",
    "\n",
    "[More on Unicode Characters](https://en.wikipedia.org/wiki/List_of_Unicode_characters)"
   ]
  },
  {
   "cell_type": "code",
   "execution_count": 41,
   "metadata": {},
   "outputs": [
    {
     "name": "stdout",
     "output_type": "stream",
     "text": [
      "['This', 'is', 'a', 'sentence', 'Hello', 'Foxes71', 'There', 'is', 'at', 'the', 'end', 'of', 'this', 'sentence', 'an', 'exclamation', 'point']\n",
      "[' ', ' ', ' ', '. ', ', ', '. ', ' ', ', ', ' ', ' ', ' ', ' ', ' ', ', ', ' ', ' ', '!']\n"
     ]
    }
   ],
   "source": [
    "pattern1 = re.compile('[\\w]+')\n",
    "pattern2 = re.compile('[\\W]+')\n",
    "\n",
    "sentence = 'This is a sentence. Hello, Foxes71. There is, at the end of this sentence, an exclamation point!'\n",
    "f1 = pattern1.findall(sentence)\n",
    "f2 = pattern2.findall(sentence)\n",
    "print(f1)\n",
    "print(f2)"
   ]
  },
  {
   "cell_type": "markdown",
   "metadata": {},
   "source": [
    "##### \\d - look for any digit 0-9<br/>\\D - look for anything that isnt a digit"
   ]
  },
  {
   "cell_type": "code",
   "execution_count": 42,
   "metadata": {},
   "outputs": [
    {
     "name": "stdout",
     "output_type": "stream",
     "text": [
      "['71']\n",
      "['This is a sentence. Hello, Foxes', '. There is, at the end of this sentence, an exclamation point!']\n"
     ]
    }
   ],
   "source": [
    "pattern1 = re.compile('[\\d]+')\n",
    "pattern2 = re.compile('[\\D]+')\n",
    "\n",
    "sentence = 'This is a sentence. Hello, Foxes71. There is, at the end of this sentence, an exclamation point!'\n",
    "f1 = pattern1.findall(sentence)\n",
    "f2 = pattern2.findall(sentence)\n",
    "print(f1)\n",
    "print(f2)"
   ]
  },
  {
   "cell_type": "markdown",
   "metadata": {},
   "source": [
    "##### \\s - look for any white space<br/>\\S - look for anything that isnt whitespace"
   ]
  },
  {
   "cell_type": "code",
   "execution_count": 45,
   "metadata": {},
   "outputs": [
    {
     "name": "stdout",
     "output_type": "stream",
     "text": [
      "[' ', ' ', ' ', ' ', ' ', '  \\n\\n   ', ' ', ' ', ' ', ' ', ' ', ' ', ' ', ' ', ' ', ' ']\n",
      "['This', 'is', 'a', 'sentence.', 'Hello,', 'Foxes71.', 'There', 'is,', 'at', 'the', 'end', 'of', 'this', 'sentence,', 'an', 'exclamation', 'point!']\n"
     ]
    }
   ],
   "source": [
    "pattern1 = re.compile('[\\s]+')\n",
    "pattern2 = re.compile('[\\S]+')\n",
    "\n",
    "sentence = 'This is a sentence. Hello, Foxes71.  \\n\\n   There is, at the end of this sentence, an exclamation point!'\n",
    "f1 = pattern1.findall(sentence)\n",
    "f2 = pattern2.findall(sentence)\n",
    "print(f1)\n",
    "print(f2)"
   ]
  },
  {
   "cell_type": "markdown",
   "metadata": {},
   "source": [
    "##### \\b - look for boundaries or edges of a word<br/>\\B - look for anything that isnt a boundary"
   ]
  },
  {
   "cell_type": "code",
   "execution_count": 62,
   "metadata": {},
   "outputs": [
    {
     "name": "stdout",
     "output_type": "stream",
     "text": [
      "Boundaries found! ['Foxes71']\n",
      "No boundaries []\n"
     ]
    }
   ],
   "source": [
    "# interesting note about some regular expressions -> they may only work with raw strings\n",
    "# depending on the default encoding of the programming language you are working with,\n",
    "    # some regular expressions may not work as intended on normal strings\n",
    "    # sometimes you need to make your compile pattern a raw string r''\n",
    "pattern1 = re.compile(r'\\bFoxes71\\b')\n",
    "pattern2 = re.compile(r'\\BFoxes71\\B')\n",
    "\n",
    "sentence = 'Hello Foxes71!'\n",
    "f1 = pattern1.findall(sentence)\n",
    "f2 = pattern2.findall(sentence)\n",
    "print('Boundaries found!', f1)\n",
    "print('No boundaries', f2)"
   ]
  },
  {
   "cell_type": "markdown",
   "metadata": {},
   "source": [
    "### Grouping"
   ]
  },
  {
   "cell_type": "code",
   "execution_count": 74,
   "metadata": {},
   "outputs": [
    {
     "data": {
      "text/plain": [
       "[('LeBron', 'James'),\n",
       " ('Michael', 'Jordan'),\n",
       " ('Kobe', 'Bryant'),\n",
       " ('Ronny', \"O'Sullivan\"),\n",
       " ('Charles', 'LeClerc'),\n",
       " ('Max', 'Verstappen'),\n",
       " ('Roger', 'Federer')]"
      ]
     },
     "execution_count": 74,
     "metadata": {},
     "output_type": "execute_result"
    }
   ],
   "source": [
    "# grouping is done with parenthesis\n",
    "\n",
    "my_names=\"LeBron James Michael Jordan Kobe Bryant Ronny O'Sullivan Charles LeClerc Max Verstappen Roger Federer\"\n",
    "\n",
    "# | is or -> ' | a-z means either an apostrophe or a lowercase letter\n",
    "pattern_names = re.compile(\"([A-Z][a-zA-Za-z]+) ([A-Z]['|a-z][A-Za-z]+)\")\n",
    "\n",
    "names = pattern_names.findall(my_names)\n",
    "names"
   ]
  },
  {
   "cell_type": "code",
   "execution_count": 85,
   "metadata": {},
   "outputs": [
    {
     "name": "stdout",
     "output_type": "stream",
     "text": [
      "('LeBron', 'James') (0, 12)\n",
      "Not a human being.\n",
      "('Michael', 'Jordan') (0, 14)\n",
      "('Kobe', 'Bryant') (0, 11)\n",
      "Not a human being.\n",
      "('Ronny', \"O'Sullivan\") (0, 16)\n",
      "('Charles', 'LeClerc') (0, 15)\n",
      "('Max', 'Verstappen') (0, 14)\n",
      "('Roger', 'Federer') (0, 13)\n"
     ]
    }
   ],
   "source": [
    "# grouping is done with parenthesis\n",
    "\n",
    "my_names=\"LeBron James, lil wayne, Michael Jordan, Kobe Bryant, an ocelot, Ronny O'Sullivan, Charles LeClerc, Max Verstappen, Roger Federer\"\n",
    "\n",
    "# | is or -> ' | a-z means either an apostrophe or a lowercase letter\n",
    "pattern_names = re.compile(\"([A-Z][a-zA-Za-z]+) ([A-Z]['|a-z][A-Za-z]+)\")\n",
    "\n",
    "for name in my_names.split(', '):\n",
    "    match = pattern_names.match(name)\n",
    "    if match:\n",
    "        print(match.groups(), match.span())\n",
    "        # .groups() to print a tuple of our groupings from the pattern\n",
    "        # .group() to print the match\n",
    "    else:\n",
    "        print('Not a human being.')"
   ]
  },
  {
   "cell_type": "markdown",
   "metadata": {},
   "source": [
    "##### In-class Exercise 2:\n",
    "\n",
    "Write a function using regular expressions to find the domain name in the given email addresses (and return None for the invalid email addresses)<br><b>HINT: Use '|' for either or</b>"
   ]
  },
  {
   "cell_type": "code",
   "execution_count": 95,
   "metadata": {},
   "outputs": [
    {
     "name": "stdout",
     "output_type": "stream",
     "text": [
      "None\n",
      "pocohontas1776@gmail.com\n",
      "None\n",
      "yourfavoriteband@g6.org\n",
      "None\n"
     ]
    }
   ],
   "source": [
    "my_emails = [\"jordanw@codingtemple.orgcom\", \"pocohontas1776@gmail.com\", \"helloworld@aol..com\",\n",
    "             \"yourfavoriteband@g6.org\", \"@codingtemple.com\"]\n",
    "\n",
    "# You can also use the $ at the end of your compile expression -- this stops the search\n",
    "\n",
    "#.com OR .org => com|org\n",
    "\n",
    "#Expected output:\n",
    "#None\n",
    "#pocohontas1776@gmail.com\n",
    "#None\n",
    "#yourfavoriteband@g6.org\n",
    "#None\n",
    "\n",
    "for email in my_emails:\n",
    "    pattern = re.compile('([\\w]+)@([\\w]+).(com|org)$')\n",
    "    if pattern.match(email):\n",
    "        print(email)\n",
    "    else:\n",
    "        print(None)\n"
   ]
  },
  {
   "cell_type": "markdown",
   "metadata": {},
   "source": [
    "### Opening a File <br>\n",
    "<p>Python gives us a couple ways to import files, below are the two used most often.</p>"
   ]
  },
  {
   "cell_type": "markdown",
   "metadata": {},
   "source": [
    "##### open()"
   ]
  },
  {
   "cell_type": "code",
   "execution_count": 96,
   "metadata": {},
   "outputs": [
    {
     "name": "stdout",
     "output_type": "stream",
     "text": [
      "Hawkins, Derek\tderek@codingtemple.com\t(555) 555-5555\tTeacher, Coding Temple\t@derekhawkins\n",
      "Zhai, Mo\tmozhai@codingtemple.com\t(555) 555-5554\tTeacher, Coding Temple\n",
      "Johnson, Joe\tjoejohnson@codingtemple.com\t\tJohson, Joe\n",
      "Osterberg, Sven-Erik\tgovernor@norrbotten.co.se\t\tGovernor, Norrbotten\t@sverik\n",
      ", Tim\ttim@killerrabbit.com\t\tEnchanter, Killer Rabbit Cave\n",
      "Butz, Ryan\tryanb@codingtemple.com\t(555) 555-5543\tCEO, Coding Temple\t@ryanbutz\n",
      "Doctor, The\tdoctor+companion@tardis.co.uk\t\tTime Lord, Gallifrey\n",
      "Exampleson, Example\tme@example.com\t555-555-5552\tExample, Example Co.\t@example\n",
      "Pael, Ripal\tripalp@codingtemple.com\t(555) 555-5553\tTeacher, Coding Temple\t@ripalp\n",
      "Vader, Darth\tdarth-vader@empire.gov\t(555) 555-4444\tSith Lord, Galactic Empire\t@darthvader\n",
      "Fernandez de la Vega Sanz, Maria Teresa\tmtfvs@spain.gov\t\tFirst Deputy Prime Minister, Spanish Gov\n",
      "\n"
     ]
    }
   ],
   "source": [
    "f = open(\"names.txt\")\n",
    "\n",
    "data = f.read()\n",
    "print(data)\n",
    "\n",
    "# if you use open on its own - remember to close\n",
    "# otherwise the file stays open in the background\n",
    "f.close()"
   ]
  },
  {
   "cell_type": "markdown",
   "metadata": {},
   "source": [
    "##### with open()"
   ]
  },
  {
   "cell_type": "code",
   "execution_count": 99,
   "metadata": {},
   "outputs": [
    {
     "name": "stdout",
     "output_type": "stream",
     "text": [
      "<class 'str'>\n",
      "Hawkins, Derek\tderek@codingtemple.com\t(555) 555-5555\tTeacher, Coding Temple\t@derekhawkins\n",
      "Zhai, Mo\tmozhai@codingtemple.com\t(555) 555-5554\tTeacher, Coding Temple\n",
      "Johnson, Joe\tjoejohnson@codingtemple.com\t\tJohson, Joe\n",
      "Osterberg, Sven-Erik\tgovernor@norrbotten.co.se\t\tGovernor, Norrbotten\t@sverik\n",
      ", Tim\ttim@killerrabbit.com\t\tEnchanter, Killer Rabbit Cave\n",
      "Butz, Ryan\tryanb@codingtemple.com\t(555) 555-5543\tCEO, Coding Temple\t@ryanbutz\n",
      "Doctor, The\tdoctor+companion@tardis.co.uk\t\tTime Lord, Gallifrey\n",
      "Exampleson, Example\tme@example.com\t555-555-5552\tExample, Example Co.\t@example\n",
      "Pael, Ripal\tripalp@codingtemple.com\t(555) 555-5553\tTeacher, Coding Temple\t@ripalp\n",
      "Vader, Darth\tdarth-vader@empire.gov\t(555) 555-4444\tSith Lord, Galactic Empire\t@darthvader\n",
      "Fernandez de la Vega Sanz, Maria Teresa\tmtfvs@spain.gov\t\tFirst Deputy Prime Minister, Spanish Gov\n",
      "\n"
     ]
    }
   ],
   "source": [
    "# at the end of the with block, whatever file was opened is automatically closed\n",
    "# makes it so you don't have to worry about remembering to .close()\n",
    "with open('names.txt') as f:\n",
    "    data=f.read()\n",
    "    print(type(data))\n",
    "    print(data)"
   ]
  },
  {
   "cell_type": "markdown",
   "metadata": {},
   "source": [
    "##### re.match()"
   ]
  },
  {
   "cell_type": "code",
   "execution_count": 102,
   "metadata": {},
   "outputs": [
    {
     "data": {
      "text/plain": [
       "<re.Match object; span=(0, 14), match='Hawkins, Derek'>"
      ]
     },
     "execution_count": 102,
     "metadata": {},
     "output_type": "execute_result"
    }
   ],
   "source": [
    "# by passing a pattern into match as a parameter, we can fold the re.compile() step in with the re.match() step\n",
    "re.match(r\"Hawkins, Derek\", data)"
   ]
  },
  {
   "cell_type": "markdown",
   "metadata": {},
   "source": [
    "##### re.search()"
   ]
  },
  {
   "cell_type": "code",
   "execution_count": 103,
   "metadata": {},
   "outputs": [
    {
     "data": {
      "text/plain": [
       "<re.Match object; span=(582, 605), match='ripalp@codingtemple.com'>"
      ]
     },
     "execution_count": 103,
     "metadata": {},
     "output_type": "execute_result"
    }
   ],
   "source": [
    "re.search(r\"ripalp@codingtemple.com\", data)"
   ]
  },
  {
   "cell_type": "markdown",
   "metadata": {},
   "source": [
    "##### Store the String to a Variable"
   ]
  },
  {
   "cell_type": "code",
   "execution_count": 108,
   "metadata": {},
   "outputs": [
    {
     "name": "stdout",
     "output_type": "stream",
     "text": [
      "Who would you like to search for? (format: Last, First)O'Sullivan, Ronny\n",
      "I did not find that person.\n"
     ]
    }
   ],
   "source": [
    "answer = input('Who would you like to search for? (format: Last, First)')\n",
    "\n",
    "found = re.search(answer, data)\n",
    "\n",
    "if found:\n",
    "    print(f\"I found that person at {found.span()}! {found.group()}\")\n",
    "else:\n",
    "    print(f'I did not find that person.')"
   ]
  },
  {
   "cell_type": "markdown",
   "metadata": {},
   "source": [
    "### In-Class Exercise #3 <br>\n",
    "<p>Print each persons name and twitter handle, using groups, should look like:</p>\n",
    "<p>==============<br>\n",
    "   Full Name / Twitter<br>\n",
    "   ==============</p>\n",
    "Derek Hawkins / @derekhawkins\n",
    "\n",
    " Erik Sven-Osterberg / @sverik\n",
    "\n",
    " Ryan Butz / @ryanbutz\n",
    "\n",
    " Example Exampleson / @example\n",
    "\n",
    " Ripal Pael / @ripalp\n",
    "\n",
    " Darth Vader / @darthvader"
   ]
  },
  {
   "cell_type": "code",
   "execution_count": 151,
   "metadata": {
    "scrolled": true
   },
   "outputs": [
    {
     "name": "stdout",
     "output_type": "stream",
     "text": [
      "==============\n",
      "Full Name / Twitter\n",
      "==============\n",
      "Derek Hawkins / @derekhawkins\n",
      "\n",
      "Sven-Erik Osterberg / @sverik\n",
      "\n",
      "Ryan Butz / @ryanbutz\n",
      "\n",
      "Example Exampleson / @example\n",
      "\n",
      "Ripal Pael / @ripalp\n",
      "\n",
      "Darth Vader / @darthvader\n",
      "\n"
     ]
    }
   ],
   "source": [
    "with open('names.txt') as f:\n",
    "    data=f.readlines() # .readlines() instead of .read() splits our string into a list of strings of each line\n",
    "    #print(type(data))\n",
    "    #print(data)\n",
    "print('==============\\nFull Name / Twitter\\n==============')\n",
    "for person in data:\n",
    "    match = re.match('([A-Z][a-z]+), ([A-Z][a-zA-Z-]+)\\s[\\w\\W]*\\s(@[a-z]+)', person)\n",
    "    \n",
    "    if match:\n",
    "        #print(match.groups())\n",
    "        print(f'{match.group(2)} {match.group(1)} / {match.group(3)}\\n')"
   ]
  },
  {
   "cell_type": "code",
   "execution_count": 155,
   "metadata": {},
   "outputs": [
    {
     "data": {
      "text/plain": [
       "95"
      ]
     },
     "execution_count": 155,
     "metadata": {},
     "output_type": "execute_result"
    }
   ],
   "source": [
    "listo = [[1], [2, [1, 5, 7]], [3, 2, [0, [21, 51, 0, 2]]]]\n",
    "capturenums = re.findall('[\\d]+', str(listo))\n",
    "sum([int(x) for x in capturenums])"
   ]
  },
  {
   "cell_type": "markdown",
   "metadata": {},
   "source": [
    "### Regex project\n",
    "\n",
    "Use python to read the file regex_test.txt and print the last name on each line using regular expressions and groups (return None for names with no first and last name, or names that aren't properly capitalized)\n",
    "##### Hint: use with open() and readlines()"
   ]
  },
  {
   "cell_type": "code",
   "execution_count": 66,
   "metadata": {},
   "outputs": [
    {
     "name": "stdout",
     "output_type": "stream",
     "text": [
      "Abraham Lincoln\n",
      "Andrew P Garfield\n",
      "Connor Milliken\n",
      "Jordan Alexander Williams\n",
      "None\n",
      "None\n"
     ]
    }
   ],
   "source": [
    "\"\"\"\n",
    "Expected Output\n",
    "Abraham Lincoln\n",
    "Andrew P Garfield\n",
    "Connor Milliken\n",
    "Jordan Alexander Williams\n",
    "None\n",
    "None\n",
    "\"\"\"\n",
    "\n",
    "with open('regex_test.txt') as d:\n",
    "    data=d.readlines()\n",
    "    \n",
    "for name in data:\n",
    "    match = re.match('([A-Z][a-z]+) ([A-Z][a-z]*) ([A-Z][a-z]+)|([A-Z][a-z]+) ([A-Z][a-zA-Z]+)', name)\n",
    "\n",
    "    if match:\n",
    "        print(match.group())\n",
    "    else:\n",
    "        print(None)\n"
   ]
  },
  {
   "cell_type": "code",
   "execution_count": null,
   "metadata": {},
   "outputs": [],
   "source": []
  }
 ],
 "metadata": {
  "kernelspec": {
   "display_name": "Python 3",
   "language": "python",
   "name": "python3"
  },
  "language_info": {
   "codemirror_mode": {
    "name": "ipython",
    "version": 3
   },
   "file_extension": ".py",
   "mimetype": "text/x-python",
   "name": "python",
   "nbconvert_exporter": "python",
   "pygments_lexer": "ipython3",
   "version": "3.8.8"
  }
 },
 "nbformat": 4,
 "nbformat_minor": 2
}
